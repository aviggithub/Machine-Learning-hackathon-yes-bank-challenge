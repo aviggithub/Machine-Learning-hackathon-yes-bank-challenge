{
 "cells": [
  {
   "cell_type": "code",
   "execution_count": 5,
   "metadata": {
    "collapsed": true
   },
   "outputs": [],
   "source": [
    "\n",
    "import pandas as pd\n",
    "import numpy as np\n",
    "import matplotlib.pyplot as plt\n",
    "from sklearn.model_selection import train_test_split\n",
    "\n",
    "from sklearn.ensemble import RandomForestClassifier\n",
    "\n",
    "from sklearn.preprocessing import PolynomialFeatures\n",
    "\n",
    "from sklearn.linear_model import LinearRegression\n",
    "from sklearn.metrics import mean_squared_error, r2_score\n",
    "from sklearn.preprocessing import PolynomialFeatures\n",
    "\n",
    "file_reader_train= \"E:\\\\yes_bank_ml\\\\Training_data.csv\"\n",
    "file_reader_test= \"E:\\\\yes_bank_ml\\\\Test_data.csv\"\n",
    "\n",
    "train = pd.read_csv(file_reader_train) \n",
    "test = pd.read_csv(file_reader_test) \n",
    "\n",
    "df=train\n",
    "\n",
    "x = df.serial_number[:, np.newaxis]\n",
    "y = df.volume_sell[:, np.newaxis]"
   ]
  },
  {
   "cell_type": "code",
   "execution_count": 38,
   "metadata": {},
   "outputs": [
    {
     "data": {
      "text/plain": [
       "serial_number    0\n",
       "time_stamp       0\n",
       "opening_value    0\n",
       "highest_value    0\n",
       "lowest_value     0\n",
       "settle_value     0\n",
       "volume_sell      0\n",
       "dtype: int64"
      ]
     },
     "execution_count": 38,
     "metadata": {},
     "output_type": "execute_result"
    }
   ],
   "source": [
    "df.isnull().sum()"
   ]
  },
  {
   "cell_type": "code",
   "execution_count": 6,
   "metadata": {
    "collapsed": true
   },
   "outputs": [],
   "source": [
    "X_train, X_test, y_train, y_test = train_test_split(x, y,test_size=0.0)"
   ]
  },
  {
   "cell_type": "code",
   "execution_count": 8,
   "metadata": {
    "collapsed": true
   },
   "outputs": [],
   "source": [
    "polynomial_features= PolynomialFeatures(degree=2)\n",
    "X_train_poly = polynomial_features.fit_transform(X_train)"
   ]
  },
  {
   "cell_type": "code",
   "execution_count": 9,
   "metadata": {},
   "outputs": [
    {
     "name": "stdout",
     "output_type": "stream",
     "text": [
      "1 2054.667954508821\n",
      "2 2048.6067343121613\n",
      "3 2042.553814314826\n",
      "4 2036.5091945168151\n",
      "5 2030.4728749181286\n",
      "6 2024.4448555187666\n",
      "7 2018.425136318729\n",
      "8 2012.4137173180159\n",
      "9 2006.4105985166273\n",
      "10 2000.415779914563\n",
      "11 1994.4292615118231\n",
      "12 1988.4510433084079\n",
      "13 1982.481125304317\n",
      "14 1976.5195074995504\n",
      "15 1970.5661898941084\n",
      "16 1964.6211724879909\n",
      "17 1958.6844552811979\n",
      "18 1952.756038273729\n",
      "19 1946.8359214655848\n",
      "20 1940.924104856765\n",
      "21 1935.0205884472696\n",
      "22 1929.1253722370986\n",
      "23 1923.2384562262523\n",
      "24 1917.3598404147301\n",
      "25 1911.4895248025327\n",
      "26 1905.6275093896595\n",
      "27 1899.7737941761109\n",
      "28 1893.9283791618866\n",
      "29 1888.0912643469867\n",
      "30 1882.2624497314114\n",
      "31 1876.4419353151604\n",
      "32 1870.6297210982339\n",
      "33 1864.8258070806319\n",
      "34 1859.0301932623543\n",
      "35 1853.2428796434012\n",
      "36 1847.4638662237724\n",
      "37 1841.693153003468\n",
      "38 1835.9307399824884\n",
      "39 1830.176627160833\n",
      "40 1824.430814538502\n",
      "41 1818.6933021154955\n",
      "42 1812.9640898918135\n",
      "43 1807.2431778674559\n",
      "44 1801.5305660424228\n",
      "45 1795.826254416714\n",
      "46 1790.1302429903299\n",
      "47 1784.44253176327\n",
      "48 1778.7631207355344\n",
      "49 1773.0920099071236\n",
      "50 1767.429199278037\n",
      "51 1761.774688848275\n",
      "52 1756.1284786178373\n",
      "53 1750.4905685867243\n",
      "54 1744.8609587549354\n",
      "55 1739.239649122471\n",
      "56 1733.6266396893313\n",
      "57 1728.021930455516\n",
      "58 1722.425521421025\n",
      "59 1716.8374125858586\n",
      "60 1711.2576039500163\n",
      "61 1705.6860955134987\n",
      "62 1700.1228872763056\n",
      "63 1694.567979238437\n",
      "64 1689.0213713998926\n",
      "65 1683.4830637606726\n",
      "66 1677.9530563207773\n",
      "67 1672.4313490802062\n",
      "68 1666.9179420389598\n",
      "69 1661.4128351970376\n",
      "70 1655.9160285544401\n",
      "71 1650.4275221111668\n",
      "72 1644.947315867218\n",
      "73 1639.4754098225937\n",
      "74 1634.011803977294\n",
      "75 1628.5564983313184\n",
      "76 1623.1094928846676\n",
      "77 1617.6707876373412\n",
      "78 1612.2403825893389\n",
      "79 1606.8182777406612\n",
      "80 1601.404473091308\n",
      "81 1595.9989686412794\n",
      "82 1590.601764390575\n",
      "83 1585.2128603391952\n",
      "84 1579.8322564871396\n",
      "85 1574.4599528344088\n",
      "86 1569.0959493810021\n",
      "87 1563.74024612692\n",
      "88 1558.3928430721623\n",
      "89 1553.0537402167292\n",
      "90 1547.7229375606203\n",
      "91 1542.4004351038361\n",
      "92 1537.0862328463763\n",
      "93 1531.7803307882407\n",
      "94 1526.4827289294299\n",
      "95 1521.1934272699432\n",
      "96 1515.912425809781\n",
      "97 1510.6397245489434\n",
      "98 1505.3753234874303\n",
      "99 1500.1192226252415\n",
      "100 1494.871421962377\n",
      "101 1489.631921498837\n",
      "102 1484.4007212346219\n",
      "103 1479.1778211697308\n",
      "104 1473.963221304164\n",
      "105 1468.756921637922\n",
      "106 1463.5589221710045\n",
      "107 1458.3692229034111\n",
      "108 1453.1878238351424\n",
      "109 1448.0147249661982\n",
      "110 1442.8499262965781\n",
      "111 1437.6934278262827\n",
      "112 1432.5452295553118\n",
      "113 1427.4053314836651\n",
      "114 1422.273733611343\n",
      "115 1417.1504359383453\n",
      "116 1412.035438464672\n",
      "117 1406.9287411903233\n",
      "118 1401.8303441152989\n",
      "119 1396.7402472395988\n",
      "120 1391.6584505632236\n",
      "121 1386.5849540861723\n",
      "122 1381.5197578084458\n",
      "123 1376.4628617300436\n",
      "124 1371.4142658509659\n",
      "125 1366.373970171213\n",
      "126 1361.341974690784\n",
      "127 1356.3182794096797\n",
      "128 1351.3028843278998\n",
      "129 1346.2957894454444\n",
      "130 1341.2969947623133\n",
      "131 1336.3065002785065\n",
      "132 1331.3243059940246\n",
      "133 1326.3504119088666\n",
      "134 1321.3848180230334\n",
      "135 1316.4275243365248\n",
      "136 1311.4785308493404\n",
      "137 1306.5378375614805\n",
      "138 1301.6054444729448\n",
      "139 1296.6813515837339\n",
      "140 1291.7655588938474\n",
      "141 1286.8580664032852\n",
      "142 1281.9588741120474\n",
      "143 1277.0679820201342\n",
      "144 1272.1853901275454\n",
      "145 1267.311098434281\n",
      "146 1262.445106940341\n",
      "147 1257.5874156457253\n",
      "148 1252.7380245504344\n",
      "149 1247.8969336544678\n",
      "150 1243.0641429578257\n",
      "151 1238.2396524605078\n",
      "152 1233.4234621625146\n",
      "153 1228.6155720638458\n",
      "154 1223.8159821645013\n",
      "155 1219.0246924644816\n",
      "156 1214.2417029637859\n",
      "157 1209.467013662415\n",
      "158 1204.7006245603682\n",
      "159 1199.9425356576462\n",
      "160 1195.1927469542484\n",
      "161 1190.451258450175\n",
      "162 1185.7180701454263\n",
      "163 1180.9931820400018\n",
      "164 1176.2765941339017\n",
      "165 1171.5683064271263\n",
      "166 1166.8683189196754\n",
      "167 1162.1766316115486\n",
      "168 1157.4932445027464\n",
      "169 1152.8181575932686\n",
      "170 1148.1513708831153\n",
      "171 1143.4928843722864\n",
      "172 1138.8426980607821\n",
      "173 1134.2008119486022\n",
      "174 1129.5672260357464\n",
      "175 1124.9419403222155\n",
      "176 1120.324954808009\n",
      "177 1115.7162694931267\n",
      "178 1111.115884377569\n",
      "179 1106.5237994613358\n",
      "180 1101.9400147444267\n",
      "181 1097.3645302268424\n",
      "182 1092.7973459085824\n",
      "183 1088.2384617896469\n",
      "184 1083.687877870036\n",
      "185 1079.145594149749\n",
      "186 1074.6116106287868\n",
      "187 1070.0859273071492\n",
      "188 1065.568544184836\n",
      "189 1061.059461261847\n",
      "190 1056.5586785381824\n",
      "191 1052.0661960138423\n",
      "192 1047.582013688827\n",
      "193 1043.106131563136\n",
      "194 1038.6385496367693\n",
      "195 1034.179267909727\n",
      "196 1029.7282863820094\n",
      "197 1025.2856050536159\n",
      "198 1020.851223924547\n",
      "199 1016.4251429948026\n",
      "200 1012.0073622643827\n",
      "201 1007.5978817332871\n",
      "202 1003.1967014015158\n",
      "203 998.8038212690692\n",
      "204 994.4192413359469\n",
      "205 990.0429616021493\n",
      "206 985.674982067676\n",
      "207 981.315302732527\n",
      "208 976.9639235967024\n",
      "209 972.6208446602025\n",
      "210 968.2860659230269\n",
      "211 963.9595873851758\n",
      "212 959.6414090466492\n",
      "213 955.3315309074471\n",
      "214 951.029952967569\n",
      "215 946.7366752270157\n",
      "216 942.4516976857869\n",
      "217 938.1750203438824\n",
      "218 933.9066432013024\n",
      "219 929.646566258047\n",
      "220 925.3947895141157\n",
      "221 921.151312969509\n",
      "222 916.9161366242267\n",
      "223 912.689260478269\n",
      "224 908.4706845316357\n",
      "225 904.2604087843265\n",
      "226 900.0584332363421\n",
      "227 895.8647578876821\n",
      "228 891.6793827383467\n",
      "229 887.5023077883357\n",
      "230 883.333533037649\n",
      "231 879.1730584862864\n",
      "232 875.0208841342487\n",
      "233 870.8770099815354\n",
      "234 866.7414360281464\n",
      "235 862.614162274082\n",
      "236 858.495188719342\n",
      "237 854.3845153639263\n",
      "238 850.282142207835\n",
      "239 846.1880692510686\n",
      "240 842.1022964936262\n",
      "241 838.0248239355085\n",
      "242 833.9556515767149\n",
      "243 829.8947794172459\n",
      "244 825.8422074571015\n",
      "245 821.7979356962815\n",
      "246 817.761964134786\n",
      "247 813.7342927726149\n",
      "248 809.714921609768\n",
      "249 805.7038506462457\n",
      "250 801.7010798820479\n",
      "251 797.7066093171745\n",
      "252 793.7204389516257\n",
      "253 789.7425687854011\n",
      "254 785.772998818501\n",
      "255 781.8117290509254\n",
      "256 777.8587594826743\n",
      "257 773.9140901137475\n",
      "258 769.9777209441454\n",
      "259 766.0496519738672\n",
      "260 762.129883202914\n",
      "261 758.218414631285\n",
      "262 754.3152462589806\n",
      "263 750.4203780860005\n",
      "264 746.533810112345\n",
      "265 742.6555423380137\n",
      "266 738.7855747630069\n",
      "267 734.9239073873246\n",
      "268 731.0705402109668\n",
      "269 727.2254732339334\n",
      "270 723.3887064562246\n",
      "271 719.5602398778399\n",
      "272 715.7400734987798\n",
      "273 711.9282073190443\n",
      "274 708.124641338633\n",
      "275 704.3293755575464\n",
      "276 700.5424099757838\n",
      "277 696.763744593346\n",
      "278 692.9933794102326\n",
      "279 689.2313144264438\n",
      "280 685.4775496419793\n",
      "281 681.7320850568392\n",
      "282 677.9949206710235\n",
      "283 674.2660564845323\n",
      "284 670.5454924973656\n",
      "285 666.8332287095232\n",
      "286 663.1292651210053\n",
      "287 659.4336017318119\n",
      "288 655.7462385419428\n",
      "289 652.0671755513983\n",
      "290 648.3964127601782\n",
      "291 644.7339501682827\n",
      "292 641.0797877757116\n",
      "293 637.4339255824646\n",
      "294 633.7963635885421\n",
      "295 630.1671017939443\n",
      "296 626.5461401986711\n",
      "297 622.933478802722\n",
      "298 619.3291176060975\n"
     ]
    }
   ],
   "source": [
    "model = LinearRegression()\n",
    "model.fit(X_train_poly, y_train)\n",
    "y_poly_pred = model.predict(X_train_poly)\n",
    "\n",
    "df=test\n",
    "\n",
    "x = df.serial_number[:, np.newaxis]\n",
    "\n",
    "#X_train, X_test_1, y_train, y_test_1 = train_test_split(x, y,test_size=0.0)\n",
    "\n",
    "y_test_predict = model.predict(polynomial_features.fit_transform(x))\n",
    "\n",
    "#j=1\n",
    "#for i in y_test_predict:\n",
    "#    print(j,i[0])\n",
    " #   j=j+1"
   ]
  },
  {
   "cell_type": "code",
   "execution_count": 10,
   "metadata": {},
   "outputs": [
    {
     "data": {
      "text/plain": [
       "(298, 1)"
      ]
     },
     "execution_count": 10,
     "metadata": {},
     "output_type": "execute_result"
    }
   ],
   "source": [
    "y_test_predict.shape"
   ]
  },
  {
   "cell_type": "code",
   "execution_count": 11,
   "metadata": {
    "collapsed": true
   },
   "outputs": [],
   "source": [
    "y_poly_pred_df=pd.DataFrame(y_poly_pred)"
   ]
  },
  {
   "cell_type": "code",
   "execution_count": 15,
   "metadata": {},
   "outputs": [
    {
     "data": {
      "text/html": [
       "<div>\n",
       "<style>\n",
       "    .dataframe thead tr:only-child th {\n",
       "        text-align: right;\n",
       "    }\n",
       "\n",
       "    .dataframe thead th {\n",
       "        text-align: left;\n",
       "    }\n",
       "\n",
       "    .dataframe tbody tr th {\n",
       "        vertical-align: top;\n",
       "    }\n",
       "</style>\n",
       "<table border=\"1\" class=\"dataframe\">\n",
       "  <thead>\n",
       "    <tr style=\"text-align: right;\">\n",
       "      <th></th>\n",
       "      <th>0</th>\n",
       "    </tr>\n",
       "  </thead>\n",
       "  <tbody>\n",
       "    <tr>\n",
       "      <th>1049</th>\n",
       "      <td>850.282142</td>\n",
       "    </tr>\n",
       "    <tr>\n",
       "      <th>1050</th>\n",
       "      <td>67.235206</td>\n",
       "    </tr>\n",
       "    <tr>\n",
       "      <th>1051</th>\n",
       "      <td>0.000000</td>\n",
       "    </tr>\n",
       "    <tr>\n",
       "      <th>1052</th>\n",
       "      <td>0.000000</td>\n",
       "    </tr>\n",
       "    <tr>\n",
       "      <th>1053</th>\n",
       "      <td>0.000000</td>\n",
       "    </tr>\n",
       "  </tbody>\n",
       "</table>\n",
       "</div>"
      ],
      "text/plain": [
       "               0\n",
       "1049  850.282142\n",
       "1050   67.235206\n",
       "1051    0.000000\n",
       "1052    0.000000\n",
       "1053    0.000000"
      ]
     },
     "execution_count": 15,
     "metadata": {},
     "output_type": "execute_result"
    }
   ],
   "source": [
    "y_poly_pred_df.tail(5)"
   ]
  },
  {
   "cell_type": "code",
   "execution_count": 14,
   "metadata": {
    "collapsed": true
   },
   "outputs": [],
   "source": [
    "#less than zero assign 0 values\n",
    "y_poly_pred_df[y_poly_pred_df < 0 ] = 0"
   ]
  },
  {
   "cell_type": "code",
   "execution_count": 16,
   "metadata": {},
   "outputs": [
    {
     "data": {
      "text/plain": [
       "(1054, 1)"
      ]
     },
     "execution_count": 16,
     "metadata": {},
     "output_type": "execute_result"
    }
   ],
   "source": [
    "y_poly_pred_df.shape"
   ]
  },
  {
   "cell_type": "code",
   "execution_count": 17,
   "metadata": {
    "collapsed": true
   },
   "outputs": [],
   "source": [
    "df2=test\n",
    "xx = df2.serial_number[:, np.newaxis]"
   ]
  },
  {
   "cell_type": "code",
   "execution_count": 18,
   "metadata": {
    "collapsed": true
   },
   "outputs": [],
   "source": [
    "yt_predict = model.predict(polynomial_features.fit_transform(xx))"
   ]
  },
  {
   "cell_type": "code",
   "execution_count": 24,
   "metadata": {},
   "outputs": [
    {
     "data": {
      "text/plain": [
       "dtype('float64')"
      ]
     },
     "execution_count": 24,
     "metadata": {},
     "output_type": "execute_result"
    }
   ],
   "source": [
    "yt_predict.dtype"
   ]
  },
  {
   "cell_type": "code",
   "execution_count": 25,
   "metadata": {
    "collapsed": true
   },
   "outputs": [],
   "source": [
    "gsdfs=pd.DataFrame(yt_predict)"
   ]
  },
  {
   "cell_type": "code",
   "execution_count": 26,
   "metadata": {},
   "outputs": [
    {
     "data": {
      "text/html": [
       "<div>\n",
       "<style>\n",
       "    .dataframe thead tr:only-child th {\n",
       "        text-align: right;\n",
       "    }\n",
       "\n",
       "    .dataframe thead th {\n",
       "        text-align: left;\n",
       "    }\n",
       "\n",
       "    .dataframe tbody tr th {\n",
       "        vertical-align: top;\n",
       "    }\n",
       "</style>\n",
       "<table border=\"1\" class=\"dataframe\">\n",
       "  <thead>\n",
       "    <tr style=\"text-align: right;\">\n",
       "      <th></th>\n",
       "      <th>0</th>\n",
       "    </tr>\n",
       "  </thead>\n",
       "  <tbody>\n",
       "    <tr>\n",
       "      <th>293</th>\n",
       "      <td>633.796364</td>\n",
       "    </tr>\n",
       "    <tr>\n",
       "      <th>294</th>\n",
       "      <td>630.167102</td>\n",
       "    </tr>\n",
       "    <tr>\n",
       "      <th>295</th>\n",
       "      <td>626.546140</td>\n",
       "    </tr>\n",
       "    <tr>\n",
       "      <th>296</th>\n",
       "      <td>622.933479</td>\n",
       "    </tr>\n",
       "    <tr>\n",
       "      <th>297</th>\n",
       "      <td>619.329118</td>\n",
       "    </tr>\n",
       "  </tbody>\n",
       "</table>\n",
       "</div>"
      ],
      "text/plain": [
       "              0\n",
       "293  633.796364\n",
       "294  630.167102\n",
       "295  626.546140\n",
       "296  622.933479\n",
       "297  619.329118"
      ]
     },
     "execution_count": 26,
     "metadata": {},
     "output_type": "execute_result"
    }
   ],
   "source": [
    "gsdfs.tail()"
   ]
  },
  {
   "cell_type": "code",
   "execution_count": 27,
   "metadata": {
    "collapsed": true
   },
   "outputs": [],
   "source": [
    "df2[\"volume_sell\"]=yt_predict"
   ]
  },
  {
   "cell_type": "code",
   "execution_count": 28,
   "metadata": {},
   "outputs": [
    {
     "data": {
      "text/html": [
       "<div>\n",
       "<style>\n",
       "    .dataframe thead tr:only-child th {\n",
       "        text-align: right;\n",
       "    }\n",
       "\n",
       "    .dataframe thead th {\n",
       "        text-align: left;\n",
       "    }\n",
       "\n",
       "    .dataframe tbody tr th {\n",
       "        vertical-align: top;\n",
       "    }\n",
       "</style>\n",
       "<table border=\"1\" class=\"dataframe\">\n",
       "  <thead>\n",
       "    <tr style=\"text-align: right;\">\n",
       "      <th></th>\n",
       "      <th>serial_number</th>\n",
       "      <th>time_stamp</th>\n",
       "      <th>opening_value</th>\n",
       "      <th>highest_value</th>\n",
       "      <th>lowest_value</th>\n",
       "      <th>settle_value</th>\n",
       "      <th>volume_sell</th>\n",
       "    </tr>\n",
       "  </thead>\n",
       "  <tbody>\n",
       "    <tr>\n",
       "      <th>0</th>\n",
       "      <td>1</td>\n",
       "      <td>2018-12-13</td>\n",
       "      <td>788.5</td>\n",
       "      <td>788.5</td>\n",
       "      <td>788.5</td>\n",
       "      <td>783.5</td>\n",
       "      <td>2054.667955</td>\n",
       "    </tr>\n",
       "    <tr>\n",
       "      <th>1</th>\n",
       "      <td>2</td>\n",
       "      <td>2018-12-12</td>\n",
       "      <td>0.0</td>\n",
       "      <td>0.0</td>\n",
       "      <td>0.0</td>\n",
       "      <td>787.0</td>\n",
       "      <td>2048.606734</td>\n",
       "    </tr>\n",
       "    <tr>\n",
       "      <th>2</th>\n",
       "      <td>3</td>\n",
       "      <td>2018-12-11</td>\n",
       "      <td>766.0</td>\n",
       "      <td>766.0</td>\n",
       "      <td>764.2</td>\n",
       "      <td>772.4</td>\n",
       "      <td>2042.553814</td>\n",
       "    </tr>\n",
       "    <tr>\n",
       "      <th>3</th>\n",
       "      <td>4</td>\n",
       "      <td>2018-12-10</td>\n",
       "      <td>765.2</td>\n",
       "      <td>765.2</td>\n",
       "      <td>753.4</td>\n",
       "      <td>752.6</td>\n",
       "      <td>2036.509195</td>\n",
       "    </tr>\n",
       "    <tr>\n",
       "      <th>4</th>\n",
       "      <td>5</td>\n",
       "      <td>2018-12-07</td>\n",
       "      <td>773.0</td>\n",
       "      <td>786.1</td>\n",
       "      <td>773.0</td>\n",
       "      <td>776.7</td>\n",
       "      <td>2030.472875</td>\n",
       "    </tr>\n",
       "  </tbody>\n",
       "</table>\n",
       "</div>"
      ],
      "text/plain": [
       "   serial_number  time_stamp  opening_value  highest_value  lowest_value  \\\n",
       "0              1  2018-12-13          788.5          788.5         788.5   \n",
       "1              2  2018-12-12            0.0            0.0           0.0   \n",
       "2              3  2018-12-11          766.0          766.0         764.2   \n",
       "3              4  2018-12-10          765.2          765.2         753.4   \n",
       "4              5  2018-12-07          773.0          786.1         773.0   \n",
       "\n",
       "   settle_value  volume_sell  \n",
       "0         783.5  2054.667955  \n",
       "1         787.0  2048.606734  \n",
       "2         772.4  2042.553814  \n",
       "3         752.6  2036.509195  \n",
       "4         776.7  2030.472875  "
      ]
     },
     "execution_count": 28,
     "metadata": {},
     "output_type": "execute_result"
    }
   ],
   "source": [
    "df2.head(5)"
   ]
  },
  {
   "cell_type": "code",
   "execution_count": 32,
   "metadata": {
    "collapsed": true
   },
   "outputs": [],
   "source": [
    "rao_df=df2[[\"serial_number\",\"volume_sell\"]]"
   ]
  },
  {
   "cell_type": "code",
   "execution_count": null,
   "metadata": {
    "collapsed": true
   },
   "outputs": [],
   "source": [
    "rao_df.volume_sell = rao_df.volume_sell.astype(int)"
   ]
  },
  {
   "cell_type": "code",
   "execution_count": 34,
   "metadata": {},
   "outputs": [
    {
     "data": {
      "text/plain": [
       "(298, 2)"
      ]
     },
     "execution_count": 34,
     "metadata": {},
     "output_type": "execute_result"
    }
   ],
   "source": [
    "rao_df.shape"
   ]
  },
  {
   "cell_type": "code",
   "execution_count": 37,
   "metadata": {},
   "outputs": [
    {
     "data": {
      "text/html": [
       "<div>\n",
       "<style>\n",
       "    .dataframe thead tr:only-child th {\n",
       "        text-align: right;\n",
       "    }\n",
       "\n",
       "    .dataframe thead th {\n",
       "        text-align: left;\n",
       "    }\n",
       "\n",
       "    .dataframe tbody tr th {\n",
       "        vertical-align: top;\n",
       "    }\n",
       "</style>\n",
       "<table border=\"1\" class=\"dataframe\">\n",
       "  <thead>\n",
       "    <tr style=\"text-align: right;\">\n",
       "      <th></th>\n",
       "      <th>serial_number</th>\n",
       "      <th>volume_sell</th>\n",
       "    </tr>\n",
       "  </thead>\n",
       "  <tbody>\n",
       "    <tr>\n",
       "      <th>0</th>\n",
       "      <td>1</td>\n",
       "      <td>2054</td>\n",
       "    </tr>\n",
       "    <tr>\n",
       "      <th>1</th>\n",
       "      <td>2</td>\n",
       "      <td>2048</td>\n",
       "    </tr>\n",
       "    <tr>\n",
       "      <th>2</th>\n",
       "      <td>3</td>\n",
       "      <td>2042</td>\n",
       "    </tr>\n",
       "    <tr>\n",
       "      <th>3</th>\n",
       "      <td>4</td>\n",
       "      <td>2036</td>\n",
       "    </tr>\n",
       "    <tr>\n",
       "      <th>4</th>\n",
       "      <td>5</td>\n",
       "      <td>2030</td>\n",
       "    </tr>\n",
       "  </tbody>\n",
       "</table>\n",
       "</div>"
      ],
      "text/plain": [
       "   serial_number  volume_sell\n",
       "0              1         2054\n",
       "1              2         2048\n",
       "2              3         2042\n",
       "3              4         2036\n",
       "4              5         2030"
      ]
     },
     "execution_count": 37,
     "metadata": {},
     "output_type": "execute_result"
    }
   ],
   "source": [
    "rao_df.head(5)"
   ]
  },
  {
   "cell_type": "code",
   "execution_count": 36,
   "metadata": {
    "collapsed": true
   },
   "outputs": [],
   "source": [
    "rao_df.to_csv(\"E:\\\\yes_bank_ml\\\\data_pred_res43\", sep=',', encoding='utf-8',index=False)"
   ]
  },
  {
   "cell_type": "code",
   "execution_count": null,
   "metadata": {
    "collapsed": true
   },
   "outputs": [],
   "source": [
    "#holts  winter"
   ]
  },
  {
   "cell_type": "code",
   "execution_count": null,
   "metadata": {
    "collapsed": true
   },
   "outputs": [],
   "source": [
    "holt_winm = test\n",
    "fit1 = ExponentialSmoothing(npp.asarray(train['volume_sell']) ,seasonal_periods=7 ,trend='add', seasonal='add',).fit()\n",
    "holt_winm['Holt_Winter'] = fit1.forecast(len(t_datan))\n",
    "plt.figure(figsize=(16,8))\n",
    "plt.plot(train['volume_sell'], label='Train')\n",
    "plt.plot(holt_winm['Holt_Winter'], label='Holt_Winter')\n",
    "plt.legend(loc='best')\n",
    "plt.show()"
   ]
  },
  {
   "cell_type": "code",
   "execution_count": null,
   "metadata": {
    "collapsed": true
   },
   "outputs": [],
   "source": [
    "hol_w_f=holt_winm"
   ]
  },
  {
   "cell_type": "code",
   "execution_count": null,
   "metadata": {
    "collapsed": true
   },
   "outputs": [],
   "source": [
    "hol_w_f.Holt_Winter[hol_w_f.Holt_Winter < 0] = 0"
   ]
  },
  {
   "cell_type": "code",
   "execution_count": null,
   "metadata": {
    "collapsed": true
   },
   "outputs": [],
   "source": [
    "hol_w_f=hol_w_f.rename(columns = {'Holt_Winter':'volume_sell'})"
   ]
  },
  {
   "cell_type": "code",
   "execution_count": null,
   "metadata": {
    "collapsed": true
   },
   "outputs": [],
   "source": [
    "hol_w_f.volume_sell = hol_w_f.volume_sell.astype(int)"
   ]
  },
  {
   "cell_type": "code",
   "execution_count": null,
   "metadata": {
    "collapsed": true
   },
   "outputs": [],
   "source": [
    "final_hol_w_f=hol_w_f[[\"serial_number\",\"volume_sell\"]]"
   ]
  },
  {
   "cell_type": "code",
   "execution_count": null,
   "metadata": {
    "collapsed": true
   },
   "outputs": [],
   "source": [
    "final_hol_w_f.to_csv(\"E:\\\\yes_bank_ml\\\\holts_winter_predicted\", sep=',', encoding='utf-8',index=False)"
   ]
  },
  {
   "cell_type": "code",
   "execution_count": null,
   "metadata": {
    "collapsed": true
   },
   "outputs": [],
   "source": [
    "#use polynomial regression first and then try holts winter method\n",
    "#Step:1\n",
    "#import all neccessary libraries like pandas,numpy,matplotlib and sklearn\n",
    "#Step 2:\n",
    "#    import Linear regrresion and PolynomialFeatures\n",
    "#step 3:\n",
    "#import train and test csv files \n",
    "#data preprocessing : check the null valus in data\n",
    "#split train data \n",
    "#step 4 :\n",
    "#use PolynomialFeatures and make model using LinearRegression\n",
    "#step 5:\n",
    "#fit the model for spitting train test data\n",
    "#step 6:\n",
    "#model gives test data for prediction\n",
    "#finally apply test data to created model and get predicted values\n",
    "#step :7\n",
    "#check the predicted valued and negative values converted one\n",
    "#created final predicted file serial number and voilume sell \n",
    "#step 8:\n",
    "#save predicted result into csv file.\n",
    "\n",
    "#use holts winter method and find prediction\n",
    "\n",
    "#polynominal features gives accuray 72.85\n",
    "#holts winter method gives 70.35"
   ]
  }
 ],
 "metadata": {
  "kernelspec": {
   "display_name": "Python 3",
   "language": "python",
   "name": "python3"
  },
  "language_info": {
   "codemirror_mode": {
    "name": "ipython",
    "version": 3
   },
   "file_extension": ".py",
   "mimetype": "text/x-python",
   "name": "python",
   "nbconvert_exporter": "python",
   "pygments_lexer": "ipython3",
   "version": "3.6.3"
  }
 },
 "nbformat": 4,
 "nbformat_minor": 2
}
